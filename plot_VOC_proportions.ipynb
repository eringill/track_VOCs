{
 "cells": [
  {
   "cell_type": "markdown",
   "metadata": {},
   "source": [
    "# Code for wrangling and plotting VOC proportions data downloaded from PHAC\n",
    "\n",
    "## Notebook created on: October 21, 2021\n",
    "\n",
    "## Notebook last updated on: October 21, 2021"
   ]
  },
  {
   "cell_type": "markdown",
   "metadata": {},
   "source": [
    "## Import libraries"
   ]
  },
  {
   "cell_type": "code",
   "execution_count": 2,
   "metadata": {},
   "outputs": [],
   "source": [
    "import pandas as pd\n",
    "import matplotlib.pyplot as plt\n",
    "import seaborn as sns"
   ]
  },
  {
   "cell_type": "markdown",
   "metadata": {},
   "source": [
    "## Read in data"
   ]
  },
  {
   "cell_type": "code",
   "execution_count": 5,
   "metadata": {},
   "outputs": [
    {
     "data": {
      "text/html": [
       "<div>\n",
       "<style scoped>\n",
       "    .dataframe tbody tr th:only-of-type {\n",
       "        vertical-align: middle;\n",
       "    }\n",
       "\n",
       "    .dataframe tbody tr th {\n",
       "        vertical-align: top;\n",
       "    }\n",
       "\n",
       "    .dataframe thead th {\n",
       "        text-align: right;\n",
       "    }\n",
       "</style>\n",
       "<table border=\"1\" class=\"dataframe\">\n",
       "  <thead>\n",
       "    <tr style=\"text-align: right;\">\n",
       "      <th></th>\n",
       "      <th>Variant Grouping</th>\n",
       "      <th>_Identifier</th>\n",
       "      <th>Lineage Grouped</th>\n",
       "      <th>%CT Count of Sample #</th>\n",
       "      <th>Collection (week)</th>\n",
       "    </tr>\n",
       "  </thead>\n",
       "  <tbody>\n",
       "    <tr>\n",
       "      <th>0</th>\n",
       "      <td>VOC</td>\n",
       "      <td>Alpha</td>\n",
       "      <td>B.1.1.7</td>\n",
       "      <td>0.001</td>\n",
       "      <td>2020-04-05</td>\n",
       "    </tr>\n",
       "    <tr>\n",
       "      <th>1</th>\n",
       "      <td>VOC</td>\n",
       "      <td>Alpha</td>\n",
       "      <td>B.1.1.7</td>\n",
       "      <td>0.001</td>\n",
       "      <td>2020-04-19</td>\n",
       "    </tr>\n",
       "    <tr>\n",
       "      <th>2</th>\n",
       "      <td>VOC</td>\n",
       "      <td>Alpha</td>\n",
       "      <td>B.1.1.7</td>\n",
       "      <td>0.004</td>\n",
       "      <td>2020-05-10</td>\n",
       "    </tr>\n",
       "    <tr>\n",
       "      <th>3</th>\n",
       "      <td>VOC</td>\n",
       "      <td>Alpha</td>\n",
       "      <td>B.1.1.7</td>\n",
       "      <td>0.006</td>\n",
       "      <td>2020-05-17</td>\n",
       "    </tr>\n",
       "    <tr>\n",
       "      <th>4</th>\n",
       "      <td>VOC</td>\n",
       "      <td>Alpha</td>\n",
       "      <td>B.1.1.7</td>\n",
       "      <td>0.001</td>\n",
       "      <td>2020-11-08</td>\n",
       "    </tr>\n",
       "  </tbody>\n",
       "</table>\n",
       "</div>"
      ],
      "text/plain": [
       "  Variant Grouping _Identifier Lineage Grouped  %CT Count of Sample #  \\\n",
       "0              VOC       Alpha         B.1.1.7                  0.001   \n",
       "1              VOC       Alpha         B.1.1.7                  0.001   \n",
       "2              VOC       Alpha         B.1.1.7                  0.004   \n",
       "3              VOC       Alpha         B.1.1.7                  0.006   \n",
       "4              VOC       Alpha         B.1.1.7                  0.001   \n",
       "\n",
       "  Collection (week)  \n",
       "0        2020-04-05  \n",
       "1        2020-04-19  \n",
       "2        2020-05-10  \n",
       "3        2020-05-17  \n",
       "4        2020-11-08  "
      ]
     },
     "execution_count": 5,
     "metadata": {},
     "output_type": "execute_result"
    }
   ],
   "source": [
    "df = pd.read_csv('data/covid19-epiSummary-variants-detailed-download.csv')\n",
    "df.head()"
   ]
  },
  {
   "cell_type": "code",
   "execution_count": 6,
   "metadata": {},
   "outputs": [
    {
     "data": {
      "text/html": [
       "<div>\n",
       "<style scoped>\n",
       "    .dataframe tbody tr th:only-of-type {\n",
       "        vertical-align: middle;\n",
       "    }\n",
       "\n",
       "    .dataframe tbody tr th {\n",
       "        vertical-align: top;\n",
       "    }\n",
       "\n",
       "    .dataframe thead th {\n",
       "        text-align: right;\n",
       "    }\n",
       "</style>\n",
       "<table border=\"1\" class=\"dataframe\">\n",
       "  <thead>\n",
       "    <tr style=\"text-align: right;\">\n",
       "      <th></th>\n",
       "      <th>grouping</th>\n",
       "      <th>identifier</th>\n",
       "      <th>lineage</th>\n",
       "      <th>percentage</th>\n",
       "      <th>week</th>\n",
       "    </tr>\n",
       "  </thead>\n",
       "  <tbody>\n",
       "    <tr>\n",
       "      <th>0</th>\n",
       "      <td>VOC</td>\n",
       "      <td>Alpha</td>\n",
       "      <td>B.1.1.7</td>\n",
       "      <td>0.001</td>\n",
       "      <td>2020-04-05</td>\n",
       "    </tr>\n",
       "    <tr>\n",
       "      <th>1</th>\n",
       "      <td>VOC</td>\n",
       "      <td>Alpha</td>\n",
       "      <td>B.1.1.7</td>\n",
       "      <td>0.001</td>\n",
       "      <td>2020-04-19</td>\n",
       "    </tr>\n",
       "    <tr>\n",
       "      <th>2</th>\n",
       "      <td>VOC</td>\n",
       "      <td>Alpha</td>\n",
       "      <td>B.1.1.7</td>\n",
       "      <td>0.004</td>\n",
       "      <td>2020-05-10</td>\n",
       "    </tr>\n",
       "    <tr>\n",
       "      <th>3</th>\n",
       "      <td>VOC</td>\n",
       "      <td>Alpha</td>\n",
       "      <td>B.1.1.7</td>\n",
       "      <td>0.006</td>\n",
       "      <td>2020-05-17</td>\n",
       "    </tr>\n",
       "    <tr>\n",
       "      <th>4</th>\n",
       "      <td>VOC</td>\n",
       "      <td>Alpha</td>\n",
       "      <td>B.1.1.7</td>\n",
       "      <td>0.001</td>\n",
       "      <td>2020-11-08</td>\n",
       "    </tr>\n",
       "  </tbody>\n",
       "</table>\n",
       "</div>"
      ],
      "text/plain": [
       "  grouping identifier  lineage  percentage       week\n",
       "0      VOC      Alpha  B.1.1.7       0.001 2020-04-05\n",
       "1      VOC      Alpha  B.1.1.7       0.001 2020-04-19\n",
       "2      VOC      Alpha  B.1.1.7       0.004 2020-05-10\n",
       "3      VOC      Alpha  B.1.1.7       0.006 2020-05-17\n",
       "4      VOC      Alpha  B.1.1.7       0.001 2020-11-08"
      ]
     },
     "execution_count": 6,
     "metadata": {},
     "output_type": "execute_result"
    }
   ],
   "source": [
    "df.columns = ['grouping', 'identifier', 'lineage', 'percentage', 'week']\n",
    "df['week'] = pd.to_datetime(df['week'])\n",
    "df.head()"
   ]
  },
  {
   "cell_type": "code",
   "execution_count": 39,
   "metadata": {},
   "outputs": [],
   "source": [
    "unique_weeks = df.week.unique()\n",
    "unique_identifiers = df.identifier.unique()\n",
    "unique_weeks_columns = ['grouping', 'identifier', 'percentage', 'week']\n",
    "df_unique_weeks = pd.DataFrame(columns = unique_weeks_columns)"
   ]
  },
  {
   "cell_type": "code",
   "execution_count": 40,
   "metadata": {},
   "outputs": [
    {
     "data": {
      "text/html": [
       "<div>\n",
       "<style scoped>\n",
       "    .dataframe tbody tr th:only-of-type {\n",
       "        vertical-align: middle;\n",
       "    }\n",
       "\n",
       "    .dataframe tbody tr th {\n",
       "        vertical-align: top;\n",
       "    }\n",
       "\n",
       "    .dataframe thead th {\n",
       "        text-align: right;\n",
       "    }\n",
       "</style>\n",
       "<table border=\"1\" class=\"dataframe\">\n",
       "  <thead>\n",
       "    <tr style=\"text-align: right;\">\n",
       "      <th></th>\n",
       "      <th>grouping</th>\n",
       "      <th>identifier</th>\n",
       "      <th>percentage</th>\n",
       "      <th>week</th>\n",
       "    </tr>\n",
       "  </thead>\n",
       "  <tbody>\n",
       "    <tr>\n",
       "      <th>0</th>\n",
       "      <td>VOC</td>\n",
       "      <td>Alpha</td>\n",
       "      <td>0.001</td>\n",
       "      <td>2020-04-05</td>\n",
       "    </tr>\n",
       "    <tr>\n",
       "      <th>1</th>\n",
       "      <td>VOC</td>\n",
       "      <td>Alpha</td>\n",
       "      <td>0.001</td>\n",
       "      <td>2020-04-19</td>\n",
       "    </tr>\n",
       "    <tr>\n",
       "      <th>2</th>\n",
       "      <td>VOC</td>\n",
       "      <td>Alpha</td>\n",
       "      <td>0.004</td>\n",
       "      <td>2020-05-10</td>\n",
       "    </tr>\n",
       "    <tr>\n",
       "      <th>3</th>\n",
       "      <td>VOC</td>\n",
       "      <td>Alpha</td>\n",
       "      <td>0.006</td>\n",
       "      <td>2020-05-17</td>\n",
       "    </tr>\n",
       "    <tr>\n",
       "      <th>4</th>\n",
       "      <td>VOC</td>\n",
       "      <td>Alpha</td>\n",
       "      <td>0.001</td>\n",
       "      <td>2020-11-08</td>\n",
       "    </tr>\n",
       "  </tbody>\n",
       "</table>\n",
       "</div>"
      ],
      "text/plain": [
       "  grouping identifier  percentage       week\n",
       "0      VOC      Alpha       0.001 2020-04-05\n",
       "1      VOC      Alpha       0.001 2020-04-19\n",
       "2      VOC      Alpha       0.004 2020-05-10\n",
       "3      VOC      Alpha       0.006 2020-05-17\n",
       "4      VOC      Alpha       0.001 2020-11-08"
      ]
     },
     "execution_count": 40,
     "metadata": {},
     "output_type": "execute_result"
    }
   ],
   "source": [
    "for identifier in unique_identifiers:\n",
    "    df_sub1 = df[df['identifier'] == identifier]\n",
    "    #print(df_sub1.head())\n",
    "    for week in unique_weeks:\n",
    "        df_sub2 = df_sub1[df_sub1['week'] == week]\n",
    "        #print(df_sub2.head())\n",
    "        pct = df_sub2.percentage.sum()\n",
    "        df_unique_weeks.loc[len(df_unique_weeks)] = [df_sub1.iloc[0]['grouping'], identifier, pct, week]\n",
    "\n",
    "df_unique_weeks.head()\n"
   ]
  },
  {
   "cell_type": "code",
   "execution_count": 43,
   "metadata": {},
   "outputs": [
    {
     "name": "stdout",
     "output_type": "stream",
     "text": [
      "['VOC' 'VOI' 'Other']\n",
      "['Alpha' 'Beta' 'Delta' 'Gamma' 'A.23.1' 'B.1.1.318' 'B.1.617.3' 'Epsilon'\n",
      " 'Eta' 'Iota' 'Kappa' 'Lambda' 'Mu' 'Theta' 'Zeta' 'B.1.438' 'Other']\n"
     ]
    }
   ],
   "source": [
    "print(df_unique_weeks.grouping.unique())\n",
    "print(df_unique_weeks.identifier.unique())"
   ]
  },
  {
   "cell_type": "code",
   "execution_count": null,
   "metadata": {},
   "outputs": [],
   "source": [
    "df_unique_weeks.to_csv('VOC_proportions.csv', encoding='utf-8', index=False)"
   ]
  },
  {
   "cell_type": "code",
   "execution_count": 44,
   "metadata": {},
   "outputs": [
    {
     "data": {
      "text/plain": [
       "(array([18262., 18353., 18444., 18536., 18628., 18718., 18809., 18901.]),\n",
       " [Text(0, 0, ''),\n",
       "  Text(0, 0, ''),\n",
       "  Text(0, 0, ''),\n",
       "  Text(0, 0, ''),\n",
       "  Text(0, 0, ''),\n",
       "  Text(0, 0, ''),\n",
       "  Text(0, 0, ''),\n",
       "  Text(0, 0, '')])"
      ]
     },
     "execution_count": 44,
     "metadata": {},
     "output_type": "execute_result"
    },
    {
     "data": {
      "image/png": "[encoded data removed]",
      "text/plain": [
       "<Figure size 432x288 with 1 Axes>"
      ]
     },
     "metadata": {},
     "output_type": "display_data"
    }
   ],
   "source": [
    "sns.set_style(\"whitegrid\")\n",
    "sns.lineplot(x = \"week\", y = \"percentage\", hue = \"identifier\", data=df)\n",
    "plt.legend(bbox_to_anchor=(1.01, 1),borderaxespad=0)\n",
    "plt.title(\"Cumulative number of B.1.1.7 cases in Canada\")\n",
    "plt.ylabel(\"Cumulative number of cases (log10 scale)\")\n",
    "plt.xlabel(\"Date\")\n",
    "plt.xticks(rotation=90)\n"
   ]
  },
  {
   "cell_type": "code",
   "execution_count": 46,
   "metadata": {},
   "outputs": [
    {
     "name": "stderr",
     "output_type": "stream",
     "text": [
      "No handles with labels found to put in legend.\n"
     ]
    },
    {
     "data": {
      "text/plain": [
       "(array([18262., 18353., 18444., 18536., 18628., 18718., 18809., 18901.]),\n",
       " [Text(0, 0, ''),\n",
       "  Text(0, 0, ''),\n",
       "  Text(0, 0, ''),\n",
       "  Text(0, 0, ''),\n",
       "  Text(0, 0, ''),\n",
       "  Text(0, 0, ''),\n",
       "  Text(0, 0, ''),\n",
       "  Text(0, 0, '')])"
      ]
     },
     "execution_count": 46,
     "metadata": {},
     "output_type": "execute_result"
    },
    {
     "data": {
      "image/png": "[encoded data removed]",
      "text/plain": [
       "<Figure size 432x288 with 1 Axes>"
      ]
     },
     "metadata": {},
     "output_type": "display_data"
    }
   ],
   "source": [
    "sns.set_style(\"whitegrid\")\n",
    "sns.histplot(x = \"week\", y = \"percentage\", hue = \"identifier\", multiple = \"stack\", data=df)\n",
    "plt.legend(bbox_to_anchor=(1.01, 1),borderaxespad=0)\n",
    "plt.title(\"Cumulative number of B.1.1.7 cases in Canada\")\n",
    "plt.ylabel(\"Cumulative number of cases (log10 scale)\")\n",
    "plt.xlabel(\"Date\")\n",
    "plt.xticks(rotation=90)"
   ]
  }
 ],
 "metadata": {
  "interpreter": {
   "hash": "40d3a090f54c6569ab1632332b64b2c03c39dcf918b08424e98f38b5ae0af88f"
  },
  "kernelspec": {
   "display_name": "Python 3.8.11 64-bit ('base': conda)",
   "name": "python3"
  },
  "language_info": {
   "codemirror_mode": {
    "name": "ipython",
    "version": 3
   },
   "file_extension": ".py",
   "mimetype": "text/x-python",
   "name": "python",
   "nbconvert_exporter": "python",
   "pygments_lexer": "ipython3",
   "version": "3.8.11"
  },
  "orig_nbformat": 4
 },
 "nbformat": 4,
 "nbformat_minor": 2
}
