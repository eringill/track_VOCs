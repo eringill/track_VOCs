{
 "metadata": {
  "language_info": {
   "codemirror_mode": {
    "name": "ipython",
    "version": 3
   },
   "file_extension": ".py",
   "mimetype": "text/x-python",
   "name": "python",
   "nbconvert_exporter": "python",
   "pygments_lexer": "ipython3",
   "version": "3.8.5"
  },
  "orig_nbformat": 2,
  "kernelspec": {
   "name": "python385jvsc74a57bd0dca0ade3e726a953b501b15e8e990130d2b7799f14cfd9f4271676035ebe5511",
   "display_name": "Python 3.8.5 64-bit ('base': conda)"
  }
 },
 "nbformat": 4,
 "nbformat_minor": 2,
 "cells": [
  {
   "source": [
    "import pandas as pd\n",
    "\n",
    "csv_url = \"https://health-infobase.canada.ca/src/data/covidLive/covid19.csv\"\n",
    "df = pd.read_csv(csv_url)\n"
   ],
   "cell_type": "code",
   "metadata": {},
   "execution_count": 4,
   "outputs": []
  },
  {
   "cell_type": "code",
   "execution_count": 5,
   "metadata": {},
   "outputs": [],
   "source": [
    "#parse government data so it is usable\n",
    "df['dates'] = pd.to_datetime(df['date'], dayfirst = True)\n",
    "df['YMD'] = df['dates'].dt.date\n",
    "df = df.drop(['date', 'dates', 'prnameFR', 'pruid'], axis = 1)\n",
    "#if provinces don't report active cases, assume they have 0, so the data will plot\n",
    "df['numactive'].fillna(0.0, inplace = True)\n",
    "\n",
    "#List of unique provinces, Canada, ordered alphabetically with Canada first\n",
    "provnames = df.prname.unique()\n",
    "provnames = list(provnames)\n",
    "provnames.pop()\n",
    "provnames.sort()\n",
    "myorder = [2, 0, 1, 3, 4, 5, 6, 7, 8, 9, 10, 11, 12, 13]\n",
    "provnames = [provnames[i] for i in myorder]\n",
    "dropnames = ['Canada', 'Nunavut', 'Yukon', 'Northwest Territories']\n",
    "select_provs = [x for x in provnames if x not in dropnames]\n",
    "\n",
    "#function to make province-wise dataset\n",
    "def make_dataset(pnames):\n",
    "    \n",
    "    by_prov = pd.DataFrame()\n",
    "\n",
    "    # Iterate through all the provinces\n",
    "    for i in pnames:\n",
    "\n",
    "        # Subset to the province\n",
    "        sub = df[df['prname'] == i]\n",
    "\n",
    "        # Add to the overall dataframe\n",
    "        by_prov = by_prov.append(sub)\n",
    "    \n",
    "    return by_prov\n",
    "\n",
    "#must pivot datasets for linear plot data so prov names are columns\n",
    "def format_dataset(df, value):\n",
    "    df_pivot = pd.pivot_table(df,\n",
    "    columns = 'prname',\n",
    "    index = 'YMD',\n",
    "    values = value)\n",
    "    \n",
    "    df_pivot = df_pivot.rename_axis(None)\n",
    "\n",
    "    return df_pivot"
   ]
  },
  {
   "cell_type": "code",
   "execution_count": 6,
   "metadata": {},
   "outputs": [
    {
     "output_type": "stream",
     "name": "stdout",
     "text": [
      "prname      Alberta  British Columbia  Manitoba  New Brunswick  \\\n2021-02-27    415.0             569.0      90.0            2.0   \n2021-02-28    301.0             545.0      50.0            0.0   \n2021-03-01    291.0             475.0      35.0            1.0   \n2021-03-02    257.0             438.0      56.0            4.0   \n2021-03-03    402.0             542.0      50.0            3.0   \n2021-03-04    331.0             564.0      51.0            5.0   \n2021-03-05    411.0             634.0      48.0            4.0   \n2021-03-06    341.0             545.0      70.0            6.0   \n2021-03-07    304.0             532.0      56.0            2.0   \n2021-03-08    278.0             385.0      59.0            4.0   \n2021-03-09    255.0             550.0      60.0            1.0   \n2021-03-10    399.0             531.0      74.0            0.0   \n2021-03-11    364.0             569.0      91.0            2.0   \n2021-03-12    425.0             648.0      96.0            3.0   \n2021-03-13    474.0             555.0      94.0            0.0   \n2021-03-14    388.0             491.0      44.0            5.0   \n2021-03-15    364.0             460.0      49.0            1.0   \n2021-03-16    355.0             556.0     108.0            5.0   \n2021-03-17    479.0             498.0      94.0            1.0   \n2021-03-18    505.0             622.0      91.0            7.0   \n2021-03-19    696.0             737.0      89.0            2.0   \n2021-03-20    556.0             556.0      89.0            3.0   \n2021-03-21    555.0             598.0      89.0            1.0   \n2021-03-22    456.0             631.0      61.0            8.0   \n2021-03-23    465.0             682.0      97.0            7.0   \n2021-03-24    692.0             716.0      75.0           11.0   \n2021-03-25    764.0             800.0     109.0           30.0   \n2021-03-26    717.0             908.0     116.0           13.0   \n\nprname      Newfoundland and Labrador  Nova Scotia  Ontario  \\\n2021-02-27                        4.0          4.0   1185.0   \n2021-02-28                        7.0          3.0   1062.0   \n2021-03-01                        2.0          1.0   1023.0   \n2021-03-02                        5.0          1.0    966.0   \n2021-03-03                        3.0          3.0    958.0   \n2021-03-04                        5.0          3.0    994.0   \n2021-03-05                        1.0          2.0   1250.0   \n2021-03-06                        2.0          6.0    990.0   \n2021-03-07                        1.0          2.0   1299.0   \n2021-03-08                        3.0          0.0   1631.0   \n2021-03-09                        1.0          5.0   1185.0   \n2021-03-10                        0.0          1.0   1316.0   \n2021-03-11                        1.0          0.0   1092.0   \n2021-03-12                        1.0          0.0   1371.0   \n2021-03-13                        0.0          4.0   1468.0   \n2021-03-14                        0.0          1.0   1747.0   \n2021-03-15                        0.0          0.0   1268.0   \n2021-03-16                        1.0          2.0   1074.0   \n2021-03-17                        0.0          2.0   1508.0   \n2021-03-18                        1.0          3.0   1553.0   \n2021-03-19                        0.0          3.0   1745.0   \n2021-03-20                        0.0          2.0   1829.0   \n2021-03-21                        0.0          6.0   1791.0   \n2021-03-22                        0.0          2.0   1699.0   \n2021-03-23                        0.0          1.0   1546.0   \n2021-03-24                        1.0          5.0   1571.0   \n2021-03-25                        0.0          3.0   2380.0   \n2021-03-26                        0.0          5.0   2169.0   \n\nprname      Prince Edward Island  Quebec  Saskatchewan  \n2021-02-27                   6.0   858.0         162.0  \n2021-02-28                   5.0   737.0         141.0  \n2021-03-01                   0.0   613.0         154.0  \n2021-03-02                   4.0   588.0         137.0  \n2021-03-03                   1.0   729.0         121.0  \n2021-03-04                   1.0   707.0         161.0  \n2021-03-05                   1.0   798.0         210.0  \n2021-03-06                   0.0   749.0         163.0  \n2021-03-07                   2.0   707.0         116.0  \n2021-03-08                   2.0   579.0          96.0  \n2021-03-09                   0.0   650.0         113.0  \n2021-03-10                   0.0   792.0         110.0  \n2021-03-11                   0.0   738.0         165.0  \n2021-03-12                   0.0   739.0         176.0  \n2021-03-13                   0.0   789.0         153.0  \n2021-03-14                   0.0   674.0          95.0  \n2021-03-15                   0.0   594.0         110.0  \n2021-03-16                   1.0   561.0         156.0  \n2021-03-17                   0.0   703.0          87.0  \n2021-03-18                   0.0   702.0         115.0  \n2021-03-19                   4.0   764.0         174.0  \n2021-03-20                   0.0   775.0         200.0  \n2021-03-21                   0.0   648.0         178.0  \n2021-03-22                   2.0   712.0         204.0  \n2021-03-23                   2.0   656.0         150.0  \n2021-03-24                   0.0   783.0         187.0  \n2021-03-25                   1.0   945.0         168.0  \n2021-03-26                   3.0   950.0         213.0  \nprname\nAlberta                      12240.0\nBritish Columbia             16337.0\nManitoba                      2091.0\nNew Brunswick                  131.0\nNewfoundland and Labrador       39.0\nNova Scotia                     70.0\nOntario                      39670.0\nPrince Edward Island            35.0\nQuebec                       20240.0\nSaskatchewan                  4215.0\ndtype: float64\n"
     ]
    }
   ],
   "source": [
    "dataset = format_dataset(make_dataset(select_provs), 'numtoday')\n",
    "index_list = pd.date_range(start = '2021-02-26', end = '2021-03-26', closed = 'right')\n",
    "month_period = dataset.loc[index_list, :]\n",
    "print(month_period)\n",
    "month_total = month_period.sum(axis = 0)\n",
    "print(month_total)\n",
    "#month_total.to_csv('data/29JAN_19FEB_totals.csv', encoding = 'utf8')"
   ]
  },
  {
   "cell_type": "code",
   "execution_count": null,
   "metadata": {},
   "outputs": [],
   "source": []
  }
 ]
}