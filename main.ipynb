{
 "cells": [
  {
   "cell_type": "code",
   "execution_count": 5,
   "metadata": {},
   "outputs": [],
   "source": [
    "import pandas as pd\n",
    "\n",
    "csv_url = \"https://health-infobase.canada.ca/src/data/covidLive/covid19.csv\"\n",
    "df = pd.read_csv(csv_url)\n"
   ]
  },
  {
   "cell_type": "code",
   "execution_count": 6,
   "metadata": {},
   "outputs": [],
   "source": [
    "#parse government data so it is usable\n",
    "df['YMD'] = pd.to_datetime(df['date'], dayfirst = True)\n",
    "df = df.drop(['date', 'prnameFR', 'pruid'], axis = 1)\n",
    "#if provinces don't report active cases, assume they have 0, so the data will plot\n",
    "df['numactive'].fillna(0.0, inplace = True)\n",
    "\n",
    "#List of unique provinces, Canada, ordered alphabetically with Canada first\n",
    "provnames = df.prname.unique()\n",
    "provnames = list(provnames)\n",
    "provnames.pop()\n",
    "provnames.sort()\n",
    "myorder = [2, 0, 1, 3, 4, 5, 6, 7, 8, 9, 10, 11, 12, 13]\n",
    "provnames = [provnames[i] for i in myorder]\n",
    "dropnames = ['Canada', 'Nunavut', 'Yukon', 'Northwest Territories']\n",
    "select_provs = [x for x in provnames if x not in dropnames]\n",
    "\n",
    "#function to make province-wise dataset\n",
    "def make_dataset(pnames):\n",
    "    \n",
    "    by_prov = pd.DataFrame()\n",
    "\n",
    "    # Iterate through all the provinces\n",
    "    for i in pnames:\n",
    "\n",
    "        # Subset to the province\n",
    "        sub = df[df['prname'] == i]\n",
    "\n",
    "        # Add to the overall dataframe\n",
    "        by_prov = by_prov.append(sub)\n",
    "    \n",
    "    return by_prov\n",
    "\n",
    "#must pivot datasets for linear plot data so prov names are columns\n",
    "def format_dataset(df, value):\n",
    "    df_pivot = pd.pivot_table(df,\n",
    "    columns = 'prname',\n",
    "    index = 'YMD',\n",
    "    values = value)\n",
    "    \n",
    "    df_pivot = df_pivot.rename_axis(None)\n",
    "\n",
    "    return df_pivot"
   ]
  },
  {
   "cell_type": "code",
   "execution_count": 7,
   "metadata": {},
   "outputs": [
    {
     "name": "stdout",
     "output_type": "stream",
     "text": [
      "prname\n",
      "Alberta                      35715.0\n",
      "British Columbia             14099.0\n",
      "Manitoba                     11420.0\n",
      "New Brunswick                  266.0\n",
      "Newfoundland and Labrador      217.0\n",
      "Nova Scotia                   3070.0\n",
      "Ontario                      65089.0\n",
      "Prince Edward Island            21.0\n",
      "Quebec                       19545.0\n",
      "Saskatchewan                  5187.0\n",
      "dtype: float64\n"
     ]
    }
   ],
   "source": [
    "dataset = format_dataset(make_dataset(select_provs), 'numtoday')\n",
    "index_list = pd.date_range(start = '2021-04-30', end = '2021-05-28', closed = 'right')\n",
    "month_period = dataset.loc[index_list, :]\n",
    "#print(month_period)\n",
    "month_total = month_period.sum(axis = 0)\n",
    "print(month_total)\n",
    "#month_total.to_csv('data/29JAN_19FEB_totals.csv', encoding = 'utf8')"
   ]
  },
  {
   "cell_type": "code",
   "execution_count": null,
   "metadata": {},
   "outputs": [],
   "source": []
  }
 ],
 "metadata": {
  "interpreter": {
   "hash": "dca0ade3e726a953b501b15e8e990130d2b7799f14cfd9f4271676035ebe5511"
  },
  "kernelspec": {
   "display_name": "Python 3.8.5 64-bit ('base': conda)",
   "name": "python3"
  },
  "language_info": {
   "codemirror_mode": {
    "name": "ipython",
    "version": 3
   },
   "file_extension": ".py",
   "mimetype": "text/x-python",
   "name": "python",
   "nbconvert_exporter": "python",
   "pygments_lexer": "ipython3",
   "version": "3.8.5"
  },
  "orig_nbformat": 2
 },
 "nbformat": 4,
 "nbformat_minor": 2
}