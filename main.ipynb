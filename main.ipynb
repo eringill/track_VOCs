{
 "metadata": {
  "language_info": {
   "codemirror_mode": {
    "name": "ipython",
    "version": 3
   },
   "file_extension": ".py",
   "mimetype": "text/x-python",
   "name": "python",
   "nbconvert_exporter": "python",
   "pygments_lexer": "ipython3",
   "version": "3.8.5"
  },
  "orig_nbformat": 2,
  "kernelspec": {
   "name": "python3",
   "display_name": "Python 3.8.5 64-bit ('base': conda)",
   "metadata": {
    "interpreter": {
     "hash": "dca0ade3e726a953b501b15e8e990130d2b7799f14cfd9f4271676035ebe5511"
    }
   }
  }
 },
 "nbformat": 4,
 "nbformat_minor": 2,
 "cells": [
  {
   "cell_type": "code",
   "execution_count": 18,
   "metadata": {},
   "outputs": [],
   "source": [
    "import pandas as pd\n",
    "\n",
    "csv_url = \"https://health-infobase.canada.ca/src/data/covidLive/covid19.csv\"\n",
    "df = pd.read_csv(csv_url)\n"
   ]
  },
  {
   "cell_type": "code",
   "execution_count": 19,
   "metadata": {},
   "outputs": [],
   "source": [
    "#parse government data so it is usable\n",
    "df['dates'] = pd.to_datetime(df['date'], dayfirst = True)\n",
    "df['YMD'] = df['dates'].dt.date\n",
    "df = df.drop(['date', 'dates', 'prnameFR', 'pruid'], axis = 1)\n",
    "#if provinces don't report active cases, assume they have 0, so the data will plot\n",
    "df['numactive'].fillna(0.0, inplace = True)\n",
    "\n",
    "#List of unique provinces, Canada, ordered alphabetically with Canada first\n",
    "provnames = df.prname.unique()\n",
    "provnames = list(provnames)\n",
    "provnames.pop()\n",
    "provnames.sort()\n",
    "myorder = [2, 0, 1, 3, 4, 5, 6, 7, 8, 9, 10, 11, 12, 13]\n",
    "provnames = [provnames[i] for i in myorder]\n",
    "dropnames = ['Canada', 'Nunavut', 'Yukon', 'Northwest Territories']\n",
    "select_provs = [x for x in provnames if x not in dropnames]\n",
    "\n",
    "#function to make province-wise dataset\n",
    "def make_dataset(pnames):\n",
    "    \n",
    "    by_prov = pd.DataFrame()\n",
    "\n",
    "    # Iterate through all the provinces\n",
    "    for i in pnames:\n",
    "\n",
    "        # Subset to the province\n",
    "        sub = df[df['prname'] == i]\n",
    "\n",
    "        # Add to the overall dataframe\n",
    "        by_prov = by_prov.append(sub)\n",
    "    \n",
    "    return by_prov\n",
    "\n",
    "#must pivot datasets for linear plot data so prov names are columns\n",
    "def format_dataset(df, value):\n",
    "    df_pivot = pd.pivot_table(df,\n",
    "    columns = 'prname',\n",
    "    index = 'YMD',\n",
    "    values = value)\n",
    "    \n",
    "    df_pivot = df_pivot.rename_axis(None)\n",
    "\n",
    "    return df_pivot"
   ]
  },
  {
   "cell_type": "code",
   "execution_count": 16,
   "metadata": {},
   "outputs": [
    {
     "output_type": "stream",
     "name": "stdout",
     "text": [
      "Index(['prname', 'update', 'numconf', 'numprob', 'numdeaths', 'numtotal',\n       'numtested', 'numtests', 'numrecover', 'percentrecover', 'ratetested',\n       'ratetests', 'numtoday', 'percentoday', 'ratetotal', 'ratedeaths',\n       'numdeathstoday', 'percentdeath', 'numtestedtoday', 'numteststoday',\n       'numrecoveredtoday', 'percentactive', 'numactive', 'rateactive',\n       'numtotal_last14', 'ratetotal_last14', 'numdeaths_last14',\n       'ratedeaths_last14', 'numtotal_last7', 'ratetotal_last7',\n       'numdeaths_last7', 'ratedeaths_last7', 'avgtotal_last7',\n       'avgincidence_last7', 'avgdeaths_last7', 'avgratedeaths_last7', 'YMD'],\n      dtype='object')\n"
     ]
    }
   ],
   "source": [
    "two_week_active = format_dataset(make_dataset(select_provs), 'numtotal_last14')\n",
    "two_week_active\n",
    "#print(df.columns)\n",
    "\n",
    "#pd.to_datetime"
   ]
  },
  {
   "cell_type": "code",
   "execution_count": 14,
   "metadata": {},
   "outputs": [
    {
     "output_type": "execute_result",
     "data": {
      "text/plain": [
       "prname      Alberta  British Columbia  Manitoba  New Brunswick  \\\n",
       "2021-03-12   4774.0            7527.0     886.0           37.0   \n",
       "\n",
       "prname      Newfoundland and Labrador  Nova Scotia  Ontario  \\\n",
       "2021-03-12                       36.0         31.0  16322.0   \n",
       "\n",
       "prname      Prince Edward Island  Quebec  Saskatchewan  \n",
       "2021-03-12                  22.0  9984.0        2025.0  "
      ],
      "text/html": "<div>\n<style scoped>\n    .dataframe tbody tr th:only-of-type {\n        vertical-align: middle;\n    }\n\n    .dataframe tbody tr th {\n        vertical-align: top;\n    }\n\n    .dataframe thead th {\n        text-align: right;\n    }\n</style>\n<table border=\"1\" class=\"dataframe\">\n  <thead>\n    <tr style=\"text-align: right;\">\n      <th>prname</th>\n      <th>Alberta</th>\n      <th>British Columbia</th>\n      <th>Manitoba</th>\n      <th>New Brunswick</th>\n      <th>Newfoundland and Labrador</th>\n      <th>Nova Scotia</th>\n      <th>Ontario</th>\n      <th>Prince Edward Island</th>\n      <th>Quebec</th>\n      <th>Saskatchewan</th>\n    </tr>\n  </thead>\n  <tbody>\n    <tr>\n      <th>2021-03-12</th>\n      <td>4774.0</td>\n      <td>7527.0</td>\n      <td>886.0</td>\n      <td>37.0</td>\n      <td>36.0</td>\n      <td>31.0</td>\n      <td>16322.0</td>\n      <td>22.0</td>\n      <td>9984.0</td>\n      <td>2025.0</td>\n    </tr>\n  </tbody>\n</table>\n</div>"
     },
     "metadata": {},
     "execution_count": 14
    }
   ],
   "source": [
    "subset = two_week_active[two_week_active.index == pd.to_datetime('2021-03-12')]\n",
    "subset"
   ]
  },
  {
   "cell_type": "code",
   "execution_count": 15,
   "metadata": {},
   "outputs": [],
   "source": [
    "subset.to_csv('data/12-MAR_subset.csv', encoding = 'utf-8')"
   ]
  },
  {
   "cell_type": "code",
   "execution_count": 45,
   "metadata": {},
   "outputs": [
    {
     "output_type": "stream",
     "name": "stdout",
     "text": [
      "prname      Alberta  British Columbia  Manitoba  New Brunswick  \\\n2021-01-30    383.0             408.0     166.0           12.0   \n2021-01-31    461.0             473.0     118.0           26.0   \n2021-02-01    355.0             277.0      87.0            8.0   \n2021-02-02    268.0             429.0      82.0           24.0   \n2021-02-03    259.0             414.0     125.0           14.0   \n2021-02-04    582.0             465.0     110.0           16.0   \n2021-02-05    396.0             471.0     110.0            7.0   \n2021-02-06    348.0             428.0      80.0           12.0   \n2021-02-07    351.0             465.0      79.0            7.0   \n2021-02-08    269.0             343.0      52.0            2.0   \n2021-02-09    195.0             435.0      71.0           15.0   \n2021-02-10    339.0             469.0      57.0           14.0   \n2021-02-11    351.0             449.0      90.0            2.0   \n2021-02-12    314.0             445.0      81.0            5.0   \n2021-02-13    305.0             452.0      99.0           16.0   \n2021-02-14    284.0             431.0      78.0            2.0   \n2021-02-15    251.0             348.0      71.0            1.0   \n2021-02-16    263.0             302.0      95.0            3.0   \n2021-02-17    277.0             427.0      75.0            3.0   \n2021-02-18    415.0             617.0     137.0            4.0   \n2021-02-19    325.0             508.0      92.0            6.0   \n\nprname      Newfoundland and Labrador  Nova Scotia  Ontario  \\\n2021-01-30                        0.0          3.0   2063.0   \n2021-01-31                        0.0          0.0   1848.0   \n2021-02-01                        0.0          1.0   1969.0   \n2021-02-02                        0.0          1.0    745.0   \n2021-02-03                        2.0          1.0   1172.0   \n2021-02-04                        1.0          1.0   1563.0   \n2021-02-05                        1.0          0.0   1670.0   \n2021-02-06                        3.0          0.0   1388.0   \n2021-02-07                        1.0          1.0   1489.0   \n2021-02-08                       11.0          1.0   1265.0   \n2021-02-09                       30.0          1.0   1022.0   \n2021-02-10                       53.0          1.0   1072.0   \n2021-02-11                      100.0          2.0    945.0   \n2021-02-12                       50.0          0.0   1076.0   \n2021-02-13                       26.0          2.0   1300.0   \n2021-02-14                       11.0          1.0    981.0   \n2021-02-15                        7.0          1.0    964.0   \n2021-02-16                        7.0          3.0    904.0   \n2021-02-17                       44.0          3.0    847.0   \n2021-02-18                       48.0          2.0   1038.0   \n2021-02-19                       60.0          2.0   1150.0   \n\nprname      Prince Edward Island  Quebec  Saskatchewan  \n2021-01-30                   0.0  1367.0         260.0  \n2021-01-31                   0.0  1223.0         238.0  \n2021-02-01                   2.0   890.0         147.0  \n2021-02-02                   0.0  1053.0         225.0  \n2021-02-03                   0.0  1053.0         194.0  \n2021-02-04                   0.0  1093.0         250.0  \n2021-02-05                   0.0  1101.0         266.0  \n2021-02-06                   0.0  1204.0         263.0  \n2021-02-07                   0.0  1081.0         194.0  \n2021-02-08                   0.0   853.0         171.0  \n2021-02-09                   1.0   826.0          80.0  \n2021-02-10                   0.0   989.0         189.0  \n2021-02-11                   0.0  1121.0         114.0  \n2021-02-12                   0.0   984.0         188.0  \n2021-02-13                   0.0  1049.0         244.0  \n2021-02-14                   0.0   910.0         161.0  \n2021-02-15                   0.0   728.0         143.0  \n2021-02-16                   0.0   669.0         136.0  \n2021-02-17                   0.0   800.0         124.0  \n2021-02-18                   1.0   900.0         146.0  \n2021-02-19                   0.0   800.0         146.0  \nprname\nAlberta                       6991.0\nBritish Columbia              9056.0\nManitoba                      1955.0\nNew Brunswick                  199.0\nNewfoundland and Labrador      455.0\nNova Scotia                     27.0\nOntario                      26471.0\nPrince Edward Island             4.0\nQuebec                       20694.0\nSaskatchewan                  3879.0\ndtype: float64\n"
     ]
    }
   ],
   "source": [
    "dataset = format_dataset(make_dataset(select_provs), 'numtoday')\n",
    "index_list = pd.date_range(start = '2021-01-29', end = '2021-02-19', closed = 'right')\n",
    "month_period = dataset.loc[index_list, :]\n",
    "print(month_period)\n",
    "month_total = month_period.sum(axis = 0)\n",
    "print(month_total)\n",
    "month_total.to_csv('data/29JAN_19FEB_totals.csv', encoding = 'utf8')"
   ]
  },
  {
   "cell_type": "code",
   "execution_count": null,
   "metadata": {},
   "outputs": [],
   "source": []
  }
 ]
}