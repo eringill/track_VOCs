{
 "metadata": {
  "language_info": {
   "codemirror_mode": {
    "name": "ipython",
    "version": 3
   },
   "file_extension": ".py",
   "mimetype": "text/x-python",
   "name": "python",
   "nbconvert_exporter": "python",
   "pygments_lexer": "ipython3",
   "version": "3.8.5"
  },
  "orig_nbformat": 2,
  "kernelspec": {
   "name": "python385jvsc74a57bd0dca0ade3e726a953b501b15e8e990130d2b7799f14cfd9f4271676035ebe5511",
   "display_name": "Python 3.8.5 64-bit ('base': conda)"
  }
 },
 "nbformat": 4,
 "nbformat_minor": 2,
 "cells": [
  {
   "source": [
    "import pandas as pd\n",
    "\n",
    "csv_url = \"https://health-infobase.canada.ca/src/data/covidLive/covid19.csv\"\n",
    "df = pd.read_csv(csv_url)\n"
   ],
   "cell_type": "code",
   "metadata": {},
   "execution_count": 1,
   "outputs": []
  },
  {
   "cell_type": "code",
   "execution_count": 2,
   "metadata": {},
   "outputs": [],
   "source": [
    "#parse government data so it is usable\n",
    "df['dates'] = pd.to_datetime(df['date'], dayfirst = True)\n",
    "df['YMD'] = df['dates'].dt.date\n",
    "df = df.drop(['date', 'dates', 'prnameFR', 'pruid'], axis = 1)\n",
    "#if provinces don't report active cases, assume they have 0, so the data will plot\n",
    "df['numactive'].fillna(0.0, inplace = True)\n",
    "\n",
    "#List of unique provinces, Canada, ordered alphabetically with Canada first\n",
    "provnames = df.prname.unique()\n",
    "provnames = list(provnames)\n",
    "provnames.pop()\n",
    "provnames.sort()\n",
    "myorder = [2, 0, 1, 3, 4, 5, 6, 7, 8, 9, 10, 11, 12, 13]\n",
    "provnames = [provnames[i] for i in myorder]\n",
    "dropnames = ['Canada', 'Nunavut', 'Yukon', 'Northwest Territories']\n",
    "select_provs = [x for x in provnames if x not in dropnames]\n",
    "\n",
    "#function to make province-wise dataset\n",
    "def make_dataset(pnames):\n",
    "    \n",
    "    by_prov = pd.DataFrame()\n",
    "\n",
    "    # Iterate through all the provinces\n",
    "    for i in pnames:\n",
    "\n",
    "        # Subset to the province\n",
    "        sub = df[df['prname'] == i]\n",
    "\n",
    "        # Add to the overall dataframe\n",
    "        by_prov = by_prov.append(sub)\n",
    "    \n",
    "    return by_prov\n",
    "\n",
    "#must pivot datasets for linear plot data so prov names are columns\n",
    "def format_dataset(df, value):\n",
    "    df_pivot = pd.pivot_table(df,\n",
    "    columns = 'prname',\n",
    "    index = 'YMD',\n",
    "    values = value)\n",
    "    \n",
    "    df_pivot = df_pivot.rename_axis(None)\n",
    "\n",
    "    return df_pivot"
   ]
  },
  {
   "cell_type": "code",
   "execution_count": 3,
   "metadata": {},
   "outputs": [
    {
     "output_type": "stream",
     "name": "stdout",
     "text": [
      "prname      Alberta  British Columbia  Manitoba  New Brunswick  \\\n2021-03-27    668.0             936.0      57.0           12.0   \n2021-03-28    644.0             805.0      55.0            6.0   \n2021-03-29    545.0             777.0      53.0           10.0   \n2021-03-30    576.0             840.0      76.0           14.0   \n2021-03-31    871.0            1013.0      64.0           12.0   \n2021-04-01    875.0             832.0      56.0           10.0   \n2021-04-02   1081.0            1074.0      91.0            9.0   \n2021-04-03   1071.0            1077.0      90.0            9.0   \n2021-04-04    948.0             999.0      67.0           11.0   \n2021-04-05    887.0             890.0      68.0           10.0   \n2021-04-06    931.0            1068.0      60.0            3.0   \n2021-04-07   1351.0             997.0     107.0           14.0   \n2021-04-08   1429.0            1293.0     136.0            7.0   \n2021-04-09   1521.0            1262.0     179.0            8.0   \n2021-04-10   1293.0            1283.0     132.0           19.0   \n2021-04-11   1183.0            1036.0     112.0            9.0   \n2021-04-12   1136.0             970.0     111.0           10.0   \n2021-04-13   1081.0             873.0     129.0            4.0   \n2021-04-14   1412.0            1168.0      82.0           16.0   \n2021-04-15   1646.0            1205.0     153.0            6.0   \n2021-04-16   1616.0            1005.0     121.0            9.0   \n2021-04-17   1486.0            1027.0     180.0           11.0   \n2021-04-18   1516.0             933.0     170.0           10.0   \n2021-04-19   1391.0            1000.0     100.0            9.0   \n2021-04-20   1345.0             849.0     209.0            0.0   \n2021-04-21   1699.0             862.0     161.0            7.0   \n2021-04-22   1857.0            1006.0     259.0           19.0   \n2021-04-23   1690.0            1001.0     175.0           16.0   \n\nprname      Newfoundland and Labrador  Nova Scotia  Ontario  \\\n2021-03-27                        0.0          5.0   2453.0   \n2021-03-28                        1.0          2.0   2448.0   \n2021-03-29                        0.0          0.0   2094.0   \n2021-03-30                        2.0          3.0   2336.0   \n2021-03-31                        1.0          2.0   2333.0   \n2021-04-01                        1.0          3.0   2557.0   \n2021-04-02                        0.0          9.0   3089.0   \n2021-04-03                        0.0          4.0   3009.0   \n2021-04-04                        0.0          7.0   3041.0   \n2021-04-05                        0.0          2.0   2938.0   \n2021-04-06                        0.0          6.0   3065.0   \n2021-04-07                        1.0          2.0   3215.0   \n2021-04-08                        1.0          5.0   3295.0   \n2021-04-09                        3.0          2.0   4227.0   \n2021-04-10                        4.0          7.0   3813.0   \n2021-04-11                        0.0          5.0   4456.0   \n2021-04-12                        1.0          7.0   4401.0   \n2021-04-13                        1.0          6.0   3670.0   \n2021-04-14                        3.0          2.0   4156.0   \n2021-04-15                        2.0          3.0   4736.0   \n2021-04-16                        3.0          6.0   4812.0   \n2021-04-17                        3.0          8.0   4362.0   \n2021-04-18                        1.0          7.0   4250.0   \n2021-04-19                        3.0         15.0   4447.0   \n2021-04-20                        2.0          9.0   3469.0   \n2021-04-21                        1.0         25.0   4212.0   \n2021-04-22                        3.0         38.0   3682.0   \n2021-04-23                        1.0         44.0   4505.0   \n\nprname      Prince Edward Island  Quebec  Saskatchewan  \n2021-03-27                   0.0  1009.0         224.0  \n2021-03-28                   0.0   917.0         248.0  \n2021-03-29                   0.0   891.0         204.0  \n2021-03-30                   3.0   864.0         164.0  \n2021-03-31                   0.0  1025.0         191.0  \n2021-04-01                   1.0  1271.0         199.0  \n2021-04-02                   0.0  1314.0         254.0  \n2021-04-03                   0.0  1282.0         280.0  \n2021-04-04                   0.0  1154.0         221.0  \n2021-04-05                   0.0  1252.0         219.0  \n2021-04-06                   0.0  1168.0         219.0  \n2021-04-07                   0.0  1270.0         189.0  \n2021-04-08                   1.0  1609.0         219.0  \n2021-04-09                   1.0  1683.0         357.0  \n2021-04-10                   0.0  1754.0         237.0  \n2021-04-11                   0.0  1535.0         320.0  \n2021-04-12                   3.0  1599.0         300.0  \n2021-04-13                   0.0  1490.0         288.0  \n2021-04-14                   0.0  1559.0         199.0  \n2021-04-15                   2.0  1513.0         303.0  \n2021-04-16                   0.0  1527.0         230.0  \n2021-04-17                   0.0  1537.0         247.0  \n2021-04-18                   3.0  1344.0         287.0  \n2021-04-19                   3.0  1092.0         244.0  \n2021-04-20                   1.0  1136.0         250.0  \n2021-04-21                   0.0  1217.0         231.0  \n2021-04-22                   1.0  1248.0         264.0  \n2021-04-23                   0.0  1043.0         250.0  \nprname\nAlberta                      33749.0\nBritish Columbia             28081.0\nManitoba                      3253.0\nNew Brunswick                  280.0\nNewfoundland and Labrador       38.0\nNova Scotia                    234.0\nOntario                      99071.0\nPrince Edward Island            19.0\nQuebec                       36303.0\nSaskatchewan                  6838.0\ndtype: float64\n"
     ]
    }
   ],
   "source": [
    "dataset = format_dataset(make_dataset(select_provs), 'numtoday')\n",
    "index_list = pd.date_range(start = '2021-03-26', end = '2021-04-23', closed = 'right')\n",
    "month_period = dataset.loc[index_list, :]\n",
    "#print(month_period)\n",
    "month_total = month_period.sum(axis = 0)\n",
    "print(month_total)\n",
    "#month_total.to_csv('data/29JAN_19FEB_totals.csv', encoding = 'utf8')"
   ]
  },
  {
   "cell_type": "code",
   "execution_count": null,
   "metadata": {},
   "outputs": [],
   "source": []
  }
 ]
}