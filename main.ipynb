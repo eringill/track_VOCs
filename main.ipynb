{
 "cells": [
  {
   "cell_type": "code",
   "execution_count": 9,
   "source": [
    "import pandas as pd\n",
    "\n",
    "csv_url = \"https://health-infobase.canada.ca/src/data/covidLive/covid19.csv\"\n",
    "df = pd.read_csv(csv_url)\n"
   ],
   "outputs": [],
   "metadata": {}
  },
  {
   "cell_type": "code",
   "execution_count": 4,
   "source": [
    "csv_url = \"https://health-infobase.canada.ca/src/data/covidLive/covid19.csv\"\n",
    "df = pd.read_csv(csv_url)\n",
    "\n",
    "#parse government data so it is usable\n",
    "df['date'] = pd.to_datetime(df['date'], dayfirst = True)\n",
    "df = df.drop(['prnameFR', 'pruid'], axis = 1)\n",
    "#if provinces don't report active cases, assume they have 0, so the data will plot\n",
    "df['numactive'].fillna(0.0, inplace = True)\n",
    "\n",
    "provnames = df.prname.unique()\n",
    "provnames = list(provnames)\n",
    "provnames.pop()\n",
    "#function to make province-wise dataset\n",
    "def make_dataset(pnames):\n",
    "    \n",
    "    by_prov = pd.DataFrame()\n",
    "\n",
    "    # Iterate through all the provinces\n",
    "    for i in pnames:\n",
    "\n",
    "        # Subset to the province\n",
    "        sub = df[df['prname'] == i]\n",
    "\n",
    "        # Add to the overall dataframe\n",
    "        by_prov = by_prov.append(sub)\n",
    "    \n",
    "    return by_prov\n",
    "\n",
    "\n",
    "#must pivot datasets for linear plot data so prov names are columns\n",
    "def format_dataset(df, value):\n",
    "    df_pivot = pd.pivot_table(df,\n",
    "    columns = 'prname',\n",
    "    index = 'date',\n",
    "    values = value)\n",
    "    \n",
    "    df_pivot = df_pivot.rename_axis(None)\n",
    "\n",
    "    return df_pivot\n",
    "\n",
    "\n",
    "dataset = format_dataset(make_dataset(provnames), 'numtotal_last7')\n",
    "dataset = dataset.reset_index()\n",
    "#print(dataset.head())\n",
    "#dataset.rename_axis('prname')\n",
    "\n",
    "mondays = pd.read_csv('data/mondays.csv')\n",
    "mondays['week'] = pd.to_datetime(mondays['week'], dayfirst=True)\n",
    "mon_lst = list(mondays['week'])\n",
    "\n",
    "mon_data = dataset.loc[dataset['index'].isin(mon_lst)]\n",
    "mon_data.rename(columns={'index':'date'}, inplace = True)\n",
    "\n",
    "print(mon_data.head())\n",
    "    "
   ],
   "outputs": [
    {
     "output_type": "stream",
     "name": "stdout",
     "text": [
      "prname       date  Alberta  British Columbia   Canada  Manitoba  \\\n",
      "362    2021-03-21   3510.0            4027.0  24738.0     609.0   \n",
      "369    2021-03-28   4406.0            5478.0  32207.0     570.0   \n",
      "377    2021-04-05   6309.0            6725.0  42654.0     512.0   \n",
      "384    2021-04-12   8844.0            7909.0  56641.0     837.0   \n",
      "391    2021-04-19  10148.0            7211.0  60753.0     935.0   \n",
      "\n",
      "prname  New Brunswick  Newfoundland and Labrador  Northwest Territories  \\\n",
      "362              20.0                        2.0                    0.0   \n",
      "369              87.0                        2.0                    0.0   \n",
      "377              75.0                        4.0                    1.0   \n",
      "384              70.0                       10.0                    0.0   \n",
      "391              65.0                       16.0                    0.0   \n",
      "\n",
      "prname  Nova Scotia  Nunavut  Ontario  Prince Edward Island   Quebec  \\\n",
      "362            18.0     12.0  10768.0                   5.0   4747.0   \n",
      "369            23.0      0.0  14266.0                   8.0   5972.0   \n",
      "377            30.0      0.0  19303.0                   4.0   8162.0   \n",
      "384            34.0      0.0  26472.0                   5.0  10618.0   \n",
      "391            47.0     28.0  30433.0                   8.0  10062.0   \n",
      "\n",
      "prname  Saskatchewan  Yukon  \n",
      "362           1020.0    0.0  \n",
      "369           1394.0    1.0  \n",
      "377           1528.0    1.0  \n",
      "384           1841.0    1.0  \n",
      "391           1798.0    2.0  \n"
     ]
    },
    {
     "output_type": "stream",
     "name": "stderr",
     "text": [
      "/opt/anaconda3/lib/python3.8/site-packages/pandas/core/frame.py:4441: SettingWithCopyWarning: \n",
      "A value is trying to be set on a copy of a slice from a DataFrame\n",
      "\n",
      "See the caveats in the documentation: https://pandas.pydata.org/pandas-docs/stable/user_guide/indexing.html#returning-a-view-versus-a-copy\n",
      "  return super().rename(\n"
     ]
    }
   ],
   "metadata": {}
  },
  {
   "cell_type": "code",
   "execution_count": 8,
   "source": [
    "dataset = format_dataset(make_dataset(select_provs), 'numtoday')\n",
    "index_list = pd.date_range(start = '2021-05-07', end = '2021-06-04', closed = 'right')\n",
    "month_period = dataset.loc[index_list, :]\n",
    "#print(month_period)\n",
    "month_total = month_period.sum(axis = 0)\n",
    "print(month_total)\n",
    "#month_total.to_csv('data/29JAN_19FEB_totals.csv', encoding = 'utf8')"
   ],
   "outputs": [
    {
     "output_type": "stream",
     "name": "stdout",
     "text": [
      "prname\n",
      "Alberta                      23553.0\n",
      "British Columbia             10708.0\n",
      "Manitoba                     11318.0\n",
      "New Brunswick                  265.0\n",
      "Newfoundland and Labrador      215.0\n",
      "Nova Scotia                   2042.0\n",
      "Ontario                      48452.0\n",
      "Prince Edward Island            20.0\n",
      "Quebec                       15145.0\n",
      "Saskatchewan                  4491.0\n",
      "dtype: float64\n"
     ]
    }
   ],
   "metadata": {}
  },
  {
   "cell_type": "code",
   "execution_count": 7,
   "source": [
    "cases_formatted = pd.melt(mon_data, id_vars = ['date']).sort_values(by = ['date','prname'])\n",
    "cases_formatted.rename(columns = {'prname':'region', 'value':'week_cases'}, inplace = True)\n",
    "\n",
    "print(cases_formatted)\n",
    "\n",
    "#cases_formatted.to_csv('data/cases.csv', index = False)"
   ],
   "outputs": [
    {
     "output_type": "stream",
     "name": "stdout",
     "text": [
      "          date                region  week_cases\n",
      "0   2021-03-21               Alberta      3510.0\n",
      "15  2021-03-21      British Columbia      4027.0\n",
      "30  2021-03-21                Canada     24738.0\n",
      "45  2021-03-21              Manitoba       609.0\n",
      "60  2021-03-21         New Brunswick        20.0\n",
      "..         ...                   ...         ...\n",
      "149 2021-06-28               Ontario      1946.0\n",
      "164 2021-06-28  Prince Edward Island         0.0\n",
      "179 2021-06-28                Quebec       649.0\n",
      "194 2021-06-28          Saskatchewan       302.0\n",
      "209 2021-06-28                 Yukon       121.0\n",
      "\n",
      "[210 rows x 3 columns]\n"
     ]
    }
   ],
   "metadata": {}
  },
  {
   "cell_type": "code",
   "execution_count": 23,
   "source": [
    "subset = pd.read_csv(\"data/subset_ag_plot.csv\")\n",
    "subset2 = pd.melt(subset, id_vars = ['date', 'region'])\n",
    "subset2.rename(columns = {'variable':'type', 'value':'cases'}, inplace = True)\n",
    "print(subset2.columns)\n",
    "\n",
    "canada = pd.read_csv('data/canadaplot.csv')\n",
    "merged = pd.concat([canada, subset2], ignore_index = True)\n",
    "print(merged)\n",
    "merged.to_csv('data/ag_plot.csv', index = False)"
   ],
   "outputs": [
    {
     "output_type": "stream",
     "name": "stdout",
     "text": [
      "Index(['date', 'region', 'type', 'cases'], dtype='object')\n",
      "           date   region type_x  cases_x  cases_y type_y\n",
      "0    2021-03-28  Alberta  alpha     1462    29121  other\n",
      "1    2021-03-28  Alberta  alpha     1462     2918  alpha\n",
      "2    2021-03-28  Alberta  alpha     1462      168  gamma\n",
      "3    2021-03-28   Quebec  alpha      163    29121  other\n",
      "4    2021-03-28   Quebec  alpha      163     2918  alpha\n",
      "..          ...      ...    ...      ...      ...    ...\n",
      "121  2021-06-21  Alberta  other      303     5132  alpha\n",
      "122  2021-06-21  Alberta  other      303     1051  gamma\n",
      "123  2021-06-21   Quebec  other      847      112  other\n",
      "124  2021-06-21   Quebec  other      847     5132  alpha\n",
      "125  2021-06-21   Quebec  other      847     1051  gamma\n",
      "\n",
      "[126 rows x 6 columns]\n"
     ]
    }
   ],
   "metadata": {}
  },
  {
   "cell_type": "code",
   "execution_count": 12,
   "source": [],
   "outputs": [
    {
     "output_type": "error",
     "ename": "KeyError",
     "evalue": "'prname'",
     "traceback": [
      "\u001b[0;31m---------------------------------------------------------------------------\u001b[0m",
      "\u001b[0;31mKeyError\u001b[0m                                  Traceback (most recent call last)",
      "\u001b[0;32m/opt/anaconda3/lib/python3.8/site-packages/pandas/core/indexes/base.py\u001b[0m in \u001b[0;36mget_loc\u001b[0;34m(self, key, method, tolerance)\u001b[0m\n\u001b[1;32m   3079\u001b[0m             \u001b[0;32mtry\u001b[0m\u001b[0;34m:\u001b[0m\u001b[0;34m\u001b[0m\u001b[0;34m\u001b[0m\u001b[0m\n\u001b[0;32m-> 3080\u001b[0;31m                 \u001b[0;32mreturn\u001b[0m \u001b[0mself\u001b[0m\u001b[0;34m.\u001b[0m\u001b[0m_engine\u001b[0m\u001b[0;34m.\u001b[0m\u001b[0mget_loc\u001b[0m\u001b[0;34m(\u001b[0m\u001b[0mcasted_key\u001b[0m\u001b[0;34m)\u001b[0m\u001b[0;34m\u001b[0m\u001b[0;34m\u001b[0m\u001b[0m\n\u001b[0m\u001b[1;32m   3081\u001b[0m             \u001b[0;32mexcept\u001b[0m \u001b[0mKeyError\u001b[0m \u001b[0;32mas\u001b[0m \u001b[0merr\u001b[0m\u001b[0;34m:\u001b[0m\u001b[0;34m\u001b[0m\u001b[0;34m\u001b[0m\u001b[0m\n",
      "\u001b[0;32mpandas/_libs/index.pyx\u001b[0m in \u001b[0;36mpandas._libs.index.IndexEngine.get_loc\u001b[0;34m()\u001b[0m\n",
      "\u001b[0;32mpandas/_libs/index.pyx\u001b[0m in \u001b[0;36mpandas._libs.index.IndexEngine.get_loc\u001b[0;34m()\u001b[0m\n",
      "\u001b[0;32mpandas/_libs/hashtable_class_helper.pxi\u001b[0m in \u001b[0;36mpandas._libs.hashtable.PyObjectHashTable.get_item\u001b[0;34m()\u001b[0m\n",
      "\u001b[0;32mpandas/_libs/hashtable_class_helper.pxi\u001b[0m in \u001b[0;36mpandas._libs.hashtable.PyObjectHashTable.get_item\u001b[0;34m()\u001b[0m\n",
      "\u001b[0;31mKeyError\u001b[0m: 'prname'",
      "\nThe above exception was the direct cause of the following exception:\n",
      "\u001b[0;31mKeyError\u001b[0m                                  Traceback (most recent call last)",
      "\u001b[0;32m<ipython-input-12-df571ccba7b0>\u001b[0m in \u001b[0;36m<module>\u001b[0;34m\u001b[0m\n\u001b[1;32m      3\u001b[0m \u001b[0mmon_lst\u001b[0m \u001b[0;34m=\u001b[0m \u001b[0mlist\u001b[0m\u001b[0;34m(\u001b[0m\u001b[0mmondays\u001b[0m\u001b[0;34m[\u001b[0m\u001b[0;34m'week'\u001b[0m\u001b[0;34m]\u001b[0m\u001b[0;34m)\u001b[0m\u001b[0;34m\u001b[0m\u001b[0;34m\u001b[0m\u001b[0m\n\u001b[1;32m      4\u001b[0m \u001b[0;34m\u001b[0m\u001b[0m\n\u001b[0;32m----> 5\u001b[0;31m \u001b[0mmon_data\u001b[0m \u001b[0;34m=\u001b[0m \u001b[0mdataset2\u001b[0m\u001b[0;34m.\u001b[0m\u001b[0mloc\u001b[0m\u001b[0;34m[\u001b[0m\u001b[0mdataset2\u001b[0m\u001b[0;34m[\u001b[0m\u001b[0;34m'prname'\u001b[0m\u001b[0;34m]\u001b[0m\u001b[0;34m.\u001b[0m\u001b[0misin\u001b[0m\u001b[0;34m(\u001b[0m\u001b[0mmon_lst\u001b[0m\u001b[0;34m)\u001b[0m\u001b[0;34m]\u001b[0m\u001b[0;34m\u001b[0m\u001b[0;34m\u001b[0m\u001b[0m\n\u001b[0m\u001b[1;32m      6\u001b[0m \u001b[0mmon_data\u001b[0m\u001b[0;34m.\u001b[0m\u001b[0mrename\u001b[0m\u001b[0;34m(\u001b[0m\u001b[0mcolumns\u001b[0m\u001b[0;34m=\u001b[0m\u001b[0;34m{\u001b[0m\u001b[0;34m'prname'\u001b[0m\u001b[0;34m:\u001b[0m\u001b[0;34m'date'\u001b[0m\u001b[0;34m}\u001b[0m\u001b[0;34m,\u001b[0m \u001b[0minplace\u001b[0m \u001b[0;34m=\u001b[0m \u001b[0;32mTrue\u001b[0m\u001b[0;34m)\u001b[0m\u001b[0;34m\u001b[0m\u001b[0;34m\u001b[0m\u001b[0m\n\u001b[1;32m      7\u001b[0m \u001b[0mprint\u001b[0m\u001b[0;34m(\u001b[0m\u001b[0mmon_data\u001b[0m\u001b[0;34m.\u001b[0m\u001b[0mhead\u001b[0m\u001b[0;34m(\u001b[0m\u001b[0;34m)\u001b[0m\u001b[0;34m)\u001b[0m\u001b[0;34m\u001b[0m\u001b[0;34m\u001b[0m\u001b[0m\n",
      "\u001b[0;32m/opt/anaconda3/lib/python3.8/site-packages/pandas/core/frame.py\u001b[0m in \u001b[0;36m__getitem__\u001b[0;34m(self, key)\u001b[0m\n\u001b[1;32m   3022\u001b[0m             \u001b[0;32mif\u001b[0m \u001b[0mself\u001b[0m\u001b[0;34m.\u001b[0m\u001b[0mcolumns\u001b[0m\u001b[0;34m.\u001b[0m\u001b[0mnlevels\u001b[0m \u001b[0;34m>\u001b[0m \u001b[0;36m1\u001b[0m\u001b[0;34m:\u001b[0m\u001b[0;34m\u001b[0m\u001b[0;34m\u001b[0m\u001b[0m\n\u001b[1;32m   3023\u001b[0m                 \u001b[0;32mreturn\u001b[0m \u001b[0mself\u001b[0m\u001b[0;34m.\u001b[0m\u001b[0m_getitem_multilevel\u001b[0m\u001b[0;34m(\u001b[0m\u001b[0mkey\u001b[0m\u001b[0;34m)\u001b[0m\u001b[0;34m\u001b[0m\u001b[0;34m\u001b[0m\u001b[0m\n\u001b[0;32m-> 3024\u001b[0;31m             \u001b[0mindexer\u001b[0m \u001b[0;34m=\u001b[0m \u001b[0mself\u001b[0m\u001b[0;34m.\u001b[0m\u001b[0mcolumns\u001b[0m\u001b[0;34m.\u001b[0m\u001b[0mget_loc\u001b[0m\u001b[0;34m(\u001b[0m\u001b[0mkey\u001b[0m\u001b[0;34m)\u001b[0m\u001b[0;34m\u001b[0m\u001b[0;34m\u001b[0m\u001b[0m\n\u001b[0m\u001b[1;32m   3025\u001b[0m             \u001b[0;32mif\u001b[0m \u001b[0mis_integer\u001b[0m\u001b[0;34m(\u001b[0m\u001b[0mindexer\u001b[0m\u001b[0;34m)\u001b[0m\u001b[0;34m:\u001b[0m\u001b[0;34m\u001b[0m\u001b[0;34m\u001b[0m\u001b[0m\n\u001b[1;32m   3026\u001b[0m                 \u001b[0mindexer\u001b[0m \u001b[0;34m=\u001b[0m \u001b[0;34m[\u001b[0m\u001b[0mindexer\u001b[0m\u001b[0;34m]\u001b[0m\u001b[0;34m\u001b[0m\u001b[0;34m\u001b[0m\u001b[0m\n",
      "\u001b[0;32m/opt/anaconda3/lib/python3.8/site-packages/pandas/core/indexes/base.py\u001b[0m in \u001b[0;36mget_loc\u001b[0;34m(self, key, method, tolerance)\u001b[0m\n\u001b[1;32m   3080\u001b[0m                 \u001b[0;32mreturn\u001b[0m \u001b[0mself\u001b[0m\u001b[0;34m.\u001b[0m\u001b[0m_engine\u001b[0m\u001b[0;34m.\u001b[0m\u001b[0mget_loc\u001b[0m\u001b[0;34m(\u001b[0m\u001b[0mcasted_key\u001b[0m\u001b[0;34m)\u001b[0m\u001b[0;34m\u001b[0m\u001b[0;34m\u001b[0m\u001b[0m\n\u001b[1;32m   3081\u001b[0m             \u001b[0;32mexcept\u001b[0m \u001b[0mKeyError\u001b[0m \u001b[0;32mas\u001b[0m \u001b[0merr\u001b[0m\u001b[0;34m:\u001b[0m\u001b[0;34m\u001b[0m\u001b[0;34m\u001b[0m\u001b[0m\n\u001b[0;32m-> 3082\u001b[0;31m                 \u001b[0;32mraise\u001b[0m \u001b[0mKeyError\u001b[0m\u001b[0;34m(\u001b[0m\u001b[0mkey\u001b[0m\u001b[0;34m)\u001b[0m \u001b[0;32mfrom\u001b[0m \u001b[0merr\u001b[0m\u001b[0;34m\u001b[0m\u001b[0;34m\u001b[0m\u001b[0m\n\u001b[0m\u001b[1;32m   3083\u001b[0m \u001b[0;34m\u001b[0m\u001b[0m\n\u001b[1;32m   3084\u001b[0m         \u001b[0;32mif\u001b[0m \u001b[0mtolerance\u001b[0m \u001b[0;32mis\u001b[0m \u001b[0;32mnot\u001b[0m \u001b[0;32mNone\u001b[0m\u001b[0;34m:\u001b[0m\u001b[0;34m\u001b[0m\u001b[0;34m\u001b[0m\u001b[0m\n",
      "\u001b[0;31mKeyError\u001b[0m: 'prname'"
     ]
    }
   ],
   "metadata": {}
  }
 ],
 "metadata": {
  "interpreter": {
   "hash": "dca0ade3e726a953b501b15e8e990130d2b7799f14cfd9f4271676035ebe5511"
  },
  "kernelspec": {
   "display_name": "Python 3.8.5 64-bit ('base': conda)",
   "name": "python3"
  },
  "language_info": {
   "codemirror_mode": {
    "name": "ipython",
    "version": 3
   },
   "file_extension": ".py",
   "mimetype": "text/x-python",
   "name": "python",
   "nbconvert_exporter": "python",
   "pygments_lexer": "ipython3",
   "version": "3.8.5"
  },
  "orig_nbformat": 2
 },
 "nbformat": 4,
 "nbformat_minor": 2
}